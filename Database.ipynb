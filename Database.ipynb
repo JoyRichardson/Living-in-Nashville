{
 "cells": [
  {
   "cell_type": "code",
   "execution_count": 5,
   "metadata": {},
   "outputs": [],
   "source": [
    "# Import dependencies\n",
    "import pandas as pd"
   ]
  },
  {
   "cell_type": "code",
   "execution_count": 6,
   "metadata": {},
   "outputs": [
    {
     "name": "stderr",
     "output_type": "stream",
     "text": [
      "C:\\Users\\jkr19\\anaconda3\\envs\\PyData\\lib\\site-packages\\IPython\\core\\interactiveshell.py:3169: DtypeWarning: Columns (5) have mixed types.Specify dtype option on import or set low_memory=False.\n",
      "  has_raised = await self.run_ast_nodes(code_ast.body, cell_name,\n"
     ]
    }
   ],
   "source": [
    "# 1. Create a DataFrame \n",
    "df = pd.read_csv (\"./Cleaned_Data/Nashville_housing_data_2013_2016_remove_0.csv\")"
   ]
  },
  {
   "cell_type": "code",
   "execution_count": 7,
   "metadata": {},
   "outputs": [
    {
     "data": {
      "text/plain": [
       "Unnamed: 0                             int64\n",
       "Unnamed: 0.1                           int64\n",
       "Parcel ID                             object\n",
       "Land Use                              object\n",
       "Property Address                      object\n",
       "Suite/ Condo #                        object\n",
       "Property City                         object\n",
       "Zip Code                               int64\n",
       "Sale Date                             object\n",
       "Sale Price                             int64\n",
       "Legal Reference                       object\n",
       "Sold As Vacant                        object\n",
       "Multiple Parcels Involved in Sale     object\n",
       "Owner Name                            object\n",
       "Address                               object\n",
       "City                                  object\n",
       "State                                 object\n",
       "Acreage                              float64\n",
       "Tax District                          object\n",
       "Neighborhood                         float64\n",
       "image                                 object\n",
       "Land Value                           float64\n",
       "Building Value                       float64\n",
       "Total Value                          float64\n",
       "Finished Area                        float64\n",
       "Foundation Type                       object\n",
       "Year Built                           float64\n",
       "Exterior Wall                         object\n",
       "Grade                                 object\n",
       "Bedrooms                             float64\n",
       "Full Bath                            float64\n",
       "Half Bath                            float64\n",
       "dtype: object"
      ]
     },
     "execution_count": 7,
     "metadata": {},
     "output_type": "execute_result"
    }
   ],
   "source": [
    "# 2. Check the column datatypes\n",
    "df.dtypes"
   ]
  },
  {
   "cell_type": "code",
   "execution_count": 12,
   "metadata": {},
   "outputs": [],
   "source": [
    "# Drop columns\n",
    "df = df.drop(columns=['Unnamed: 0',\n",
    "                 'Unnamed: 0.1',\n",
    "                 'Suite/ Condo #',\n",
    "                 'Sale Date',\n",
    "                 'Sold As Vacant',\n",
    "                 'Multiple Parcels Involved in Sale',\n",
    "                 'Owner Name',\n",
    "                 'Address',\n",
    "                 'City',\n",
    "                 'State',\n",
    "                 'Acreage',\n",
    "                 'Tax District',\n",
    "                 'Neighborhood',\n",
    "                 'image',\n",
    "                 'Land Value',\n",
    "                 'Building Value',\n",
    "                 'Total Value',\n",
    "                 'Foundation Type',\n",
    "                 'Year Built',\n",
    "                 'Exterior Wall',\n",
    "                 'Grade'])"
   ]
  },
  {
   "cell_type": "code",
   "execution_count": 13,
   "metadata": {},
   "outputs": [
    {
     "data": {
      "text/html": [
       "<div>\n",
       "<style scoped>\n",
       "    .dataframe tbody tr th:only-of-type {\n",
       "        vertical-align: middle;\n",
       "    }\n",
       "\n",
       "    .dataframe tbody tr th {\n",
       "        vertical-align: top;\n",
       "    }\n",
       "\n",
       "    .dataframe thead th {\n",
       "        text-align: right;\n",
       "    }\n",
       "</style>\n",
       "<table border=\"1\" class=\"dataframe\">\n",
       "  <thead>\n",
       "    <tr style=\"text-align: right;\">\n",
       "      <th></th>\n",
       "      <th>Parcel ID</th>\n",
       "      <th>Land Use</th>\n",
       "      <th>Property Address</th>\n",
       "      <th>Property City</th>\n",
       "      <th>Zip Code</th>\n",
       "      <th>Sale Price</th>\n",
       "      <th>Legal Reference</th>\n",
       "      <th>Finished Area</th>\n",
       "      <th>Bedrooms</th>\n",
       "      <th>Full Bath</th>\n",
       "      <th>Half Bath</th>\n",
       "    </tr>\n",
       "  </thead>\n",
       "  <tbody>\n",
       "    <tr>\n",
       "      <th>0</th>\n",
       "      <td>162 02 0A 008.00</td>\n",
       "      <td>SINGLE FAMILY</td>\n",
       "      <td>744  HILL BENNETT CIR</td>\n",
       "      <td>ANTIOCH</td>\n",
       "      <td>37013</td>\n",
       "      <td>134825</td>\n",
       "      <td>20130108-0002492</td>\n",
       "      <td>NaN</td>\n",
       "      <td>NaN</td>\n",
       "      <td>NaN</td>\n",
       "      <td>NaN</td>\n",
       "    </tr>\n",
       "    <tr>\n",
       "      <th>1</th>\n",
       "      <td>162 06 0 012.00</td>\n",
       "      <td>SINGLE FAMILY</td>\n",
       "      <td>152  TUSCULUM RD</td>\n",
       "      <td>ANTIOCH</td>\n",
       "      <td>37013</td>\n",
       "      <td>109900</td>\n",
       "      <td>20130124-0007776</td>\n",
       "      <td>1247.0</td>\n",
       "      <td>3.0</td>\n",
       "      <td>1.0</td>\n",
       "      <td>1.0</td>\n",
       "    </tr>\n",
       "    <tr>\n",
       "      <th>2</th>\n",
       "      <td>162 13 0A 015.00</td>\n",
       "      <td>SINGLE FAMILY</td>\n",
       "      <td>2321  GREEN TRAILS CT</td>\n",
       "      <td>ANTIOCH</td>\n",
       "      <td>37013</td>\n",
       "      <td>152950</td>\n",
       "      <td>20130108-0002487</td>\n",
       "      <td>NaN</td>\n",
       "      <td>NaN</td>\n",
       "      <td>NaN</td>\n",
       "      <td>NaN</td>\n",
       "    </tr>\n",
       "    <tr>\n",
       "      <th>3</th>\n",
       "      <td>173 04 0A 202.00</td>\n",
       "      <td>SINGLE FAMILY</td>\n",
       "      <td>5224  RIDGEFALLS WAY</td>\n",
       "      <td>ANTIOCH</td>\n",
       "      <td>37013</td>\n",
       "      <td>195000</td>\n",
       "      <td>20130122-0007001</td>\n",
       "      <td>NaN</td>\n",
       "      <td>NaN</td>\n",
       "      <td>NaN</td>\n",
       "      <td>NaN</td>\n",
       "    </tr>\n",
       "    <tr>\n",
       "      <th>4</th>\n",
       "      <td>173 04 0A 274.00</td>\n",
       "      <td>SINGLE FAMILY</td>\n",
       "      <td>5457  OAK CHASE DR</td>\n",
       "      <td>ANTIOCH</td>\n",
       "      <td>37013</td>\n",
       "      <td>230000</td>\n",
       "      <td>20130128-0008839</td>\n",
       "      <td>NaN</td>\n",
       "      <td>NaN</td>\n",
       "      <td>NaN</td>\n",
       "      <td>NaN</td>\n",
       "    </tr>\n",
       "  </tbody>\n",
       "</table>\n",
       "</div>"
      ],
      "text/plain": [
       "          Parcel ID       Land Use       Property Address Property City  \\\n",
       "0  162 02 0A 008.00  SINGLE FAMILY  744  HILL BENNETT CIR       ANTIOCH   \n",
       "1   162 06 0 012.00  SINGLE FAMILY       152  TUSCULUM RD       ANTIOCH   \n",
       "2  162 13 0A 015.00  SINGLE FAMILY  2321  GREEN TRAILS CT       ANTIOCH   \n",
       "3  173 04 0A 202.00  SINGLE FAMILY   5224  RIDGEFALLS WAY       ANTIOCH   \n",
       "4  173 04 0A 274.00  SINGLE FAMILY     5457  OAK CHASE DR       ANTIOCH   \n",
       "\n",
       "   Zip Code  Sale Price   Legal Reference  Finished Area  Bedrooms  Full Bath  \\\n",
       "0     37013      134825  20130108-0002492            NaN       NaN        NaN   \n",
       "1     37013      109900  20130124-0007776         1247.0       3.0        1.0   \n",
       "2     37013      152950  20130108-0002487            NaN       NaN        NaN   \n",
       "3     37013      195000  20130122-0007001            NaN       NaN        NaN   \n",
       "4     37013      230000  20130128-0008839            NaN       NaN        NaN   \n",
       "\n",
       "   Half Bath  \n",
       "0        NaN  \n",
       "1        1.0  \n",
       "2        NaN  \n",
       "3        NaN  \n",
       "4        NaN  "
      ]
     },
     "execution_count": 13,
     "metadata": {},
     "output_type": "execute_result"
    }
   ],
   "source": [
    "df.head()"
   ]
  },
  {
   "cell_type": "code",
   "execution_count": 15,
   "metadata": {},
   "outputs": [],
   "source": [
    "# 5. Export the Dataframe as a new CSV file without the index.\n",
    "df.to_csv('./Cleaned_Data/new_housing.csv', index=False)"
   ]
  },
  {
   "cell_type": "code",
   "execution_count": null,
   "metadata": {},
   "outputs": [],
   "source": []
  },
  {
   "cell_type": "code",
   "execution_count": null,
   "metadata": {},
   "outputs": [],
   "source": []
  }
 ],
 "metadata": {
  "interpreter": {
   "hash": "34467938a8bd1c8cd9ac72b455dd7067d7d90cee2dddc0c01ebff30434762846"
  },
  "kernelspec": {
   "display_name": "Python 3",
   "language": "python",
   "name": "python3"
  },
  "language_info": {
   "codemirror_mode": {
    "name": "ipython",
    "version": 3
   },
   "file_extension": ".py",
   "mimetype": "text/x-python",
   "name": "python",
   "nbconvert_exporter": "python",
   "pygments_lexer": "ipython3",
   "version": "3.7.10"
  }
 },
 "nbformat": 4,
 "nbformat_minor": 4
}
